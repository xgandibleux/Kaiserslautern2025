{
 "cells": [
  {
   "cell_type": "markdown",
   "metadata": {},
   "source": [
    "## Disclaimer\n",
    "\n",
    "**Environment:** This notebook has been developped for running with:\n",
    "\n",
    "- Julia v1.11.x\n",
    "- JuMP.jl v1.23.x\n",
    "- GLPK.jl v1.2.1\n",
    "- HiGHS v1.12.1\n",
    "\n",
    "**Author:** Xavier Gandibleux, Nantes (France)\n"
   ]
  },
  {
   "cell_type": "markdown",
   "metadata": {},
   "source": [
    "----"
   ]
  },
  {
   "cell_type": "markdown",
   "metadata": {},
   "source": [
    "## Exercise 3\n",
    "\n",
    "Given the bi-objective 01 Unidimensional Knapsack Problem (bi-01UKP) formulated by \n",
    "$$z=\\max\\big\\{(p^1x,\\ p^2x) \\mid wx \\le c, \\ x\\in\\{0,1\\}^n\\big\\}$$\n",
    "\n",
    "and the numerical instance corresponding to \n",
    "$$n=5$$\n",
    "$$p^1=(\\ 6, \\ 4, \\ 4, \\ 4, \\ 3)$$\n",
    "$$p^2=(12, 10, \\ 5, \\ 3, \\ 1)$$\n",
    "$$w=(\\ 8, \\ 6, \\ 4, \\ 3, \\ 2)$$\n",
    "$$c=15$$\n",
    "\n",
    "answer to the following questions:\n",
    "\n",
    "1. implement an implicit formulation of the bi-01UKP with JuMP and display the model.\n",
    "2. using the package `MultiObjectiveAlgorithms`, compute and display $X_E$ and $Y_N$, the set of efficient solutions and the set of non-dominated points.\n",
    "3. plot $Y_N$\n",
    "4. using this learning, implement the required codes to solve instances of the bi-objective General Assignment Problem (biGAP).\n"
   ]
  },
  {
   "cell_type": "markdown",
   "metadata": {},
   "source": [
    "## Answers:\n",
    "\n",
    "----\n",
    "### 1. implement an implicit formulation of the bi-01UKP with JuMP and display the model."
   ]
  },
  {
   "cell_type": "markdown",
   "metadata": {},
   "source": [
    "#### declare the packages to use:"
   ]
  },
  {
   "cell_type": "code",
   "execution_count": null,
   "metadata": {},
   "outputs": [],
   "source": []
  },
  {
   "cell_type": "markdown",
   "metadata": {},
   "source": [
    "#### setup the instance to solve"
   ]
  },
  {
   "cell_type": "code",
   "execution_count": null,
   "metadata": {},
   "outputs": [],
   "source": []
  },
  {
   "cell_type": "code",
   "execution_count": null,
   "metadata": {},
   "outputs": [],
   "source": []
  },
  {
   "cell_type": "markdown",
   "metadata": {},
   "source": [
    "#### setup the formulation"
   ]
  },
  {
   "cell_type": "code",
   "execution_count": null,
   "metadata": {},
   "outputs": [],
   "source": []
  },
  {
   "cell_type": "markdown",
   "metadata": {},
   "source": [
    "---- \n",
    "### 2. using the package `MultiObjectiveAlgorithms`, compute $Y_N$, the set of non-dominated points."
   ]
  },
  {
   "cell_type": "markdown",
   "metadata": {},
   "source": [
    "#### setup the MIP solver to use"
   ]
  },
  {
   "cell_type": "code",
   "execution_count": null,
   "metadata": {},
   "outputs": [],
   "source": []
  },
  {
   "cell_type": "markdown",
   "metadata": {},
   "source": [
    "#### setup the algorithm to use"
   ]
  },
  {
   "cell_type": "code",
   "execution_count": null,
   "metadata": {},
   "outputs": [],
   "source": []
  },
  {
   "cell_type": "markdown",
   "metadata": {},
   "source": [
    "#### solve the problem"
   ]
  },
  {
   "cell_type": "code",
   "execution_count": null,
   "metadata": {},
   "outputs": [],
   "source": []
  },
  {
   "cell_type": "markdown",
   "metadata": {},
   "source": [
    "#### query the cardinality of $Y_N$"
   ]
  },
  {
   "cell_type": "code",
   "execution_count": null,
   "metadata": {},
   "outputs": [],
   "source": []
  },
  {
   "cell_type": "code",
   "execution_count": null,
   "metadata": {},
   "outputs": [],
   "source": []
  },
  {
   "cell_type": "markdown",
   "metadata": {},
   "source": [
    "#### query the summary of the 3rd point"
   ]
  },
  {
   "cell_type": "code",
   "execution_count": null,
   "metadata": {},
   "outputs": [],
   "source": []
  },
  {
   "cell_type": "markdown",
   "metadata": {},
   "source": [
    "#### query the vector values of the 3rd point"
   ]
  },
  {
   "cell_type": "code",
   "execution_count": null,
   "metadata": {},
   "outputs": [],
   "source": []
  },
  {
   "cell_type": "markdown",
   "metadata": {},
   "source": [
    "#### query the value for the first objective of the 3rd point"
   ]
  },
  {
   "cell_type": "code",
   "execution_count": null,
   "metadata": {},
   "outputs": [],
   "source": []
  },
  {
   "cell_type": "markdown",
   "metadata": {},
   "source": [
    "#### display $X_E$ and $Y_N$"
   ]
  },
  {
   "cell_type": "code",
   "execution_count": null,
   "metadata": {},
   "outputs": [],
   "source": []
  },
  {
   "cell_type": "markdown",
   "metadata": {},
   "source": [
    "----\n",
    "### 3. plot $Y_N$ "
   ]
  },
  {
   "cell_type": "code",
   "execution_count": null,
   "metadata": {},
   "outputs": [],
   "source": []
  },
  {
   "cell_type": "code",
   "execution_count": null,
   "metadata": {},
   "outputs": [],
   "source": []
  },
  {
   "cell_type": "markdown",
   "metadata": {},
   "source": [
    "----\n",
    "### 4. using this learning, implement the required codes to solve instances of the bi-objective General Assignment Problem (biGAP)."
   ]
  },
  {
   "cell_type": "markdown",
   "metadata": {},
   "source": [
    "#### formulation"
   ]
  },
  {
   "cell_type": "markdown",
   "metadata": {},
   "source": [
    "Consider the following bi-objective generalized assignment (biGAP) problem:\n",
    "\n",
    "$$\\big ( \\ \\max \\sum_{i=1}^{m} \\sum_{j=1}^{n} p^1_{ij} x_{ij} \\ , \\\n",
    "\\max \\sum_{i=1}^{m} \\sum_{j=1}^{n} p^2_{ij} x_{ij} \\ \\big )$$\n",
    "\n",
    "$$ s.t \\qquad \\sum_{j=1}^{n} w_{ij} x_{ij} \\le b_i, \\quad \\forall i \\in \\{1, \\dots, m \\}$$\n",
    "\n",
    "$$ \\qquad \\qquad \\sum_{i=1}^{m} x_{ij} = 1, \\quad \\forall j \\in \\{1, \\dots, n \\}$$\n",
    "\n",
    "\n",
    "$$x_{ij}\\in\\{0,1\\}, \\ \\forall i \\in \\{1, \\dots, m \\}, \\  \\forall j \\in \\{1, \\dots, n \\}$$"
   ]
  },
  {
   "cell_type": "markdown",
   "metadata": {},
   "source": [
    "#### generator of instances\n",
    "\n",
    "Generate an instance $m\\times n$ with coefficients randomly generated as follow:\n",
    "- $1 \\le p^1_{ij}, \\ p^2_{ij}, \\ w_{ij} \\le 10$ \n",
    "- $b_i = \\lfloor  \\frac{\\sum_{j=1}^{m}w_{ij}}{2} \\rfloor$ \n",
    "\n",
    "#### questions\n",
    "\n",
    "- generate a numerical instance\n",
    "- compute $Y_N$, the set of non-dominated points, using HiGHS as MIP solver\n",
    "- compute $U$, an upper bound set of $Y_N$, using HiGHS as MIP solver\n",
    "- plot on a same figure $Y_N$ and $U$"
   ]
  },
  {
   "cell_type": "code",
   "execution_count": null,
   "metadata": {},
   "outputs": [],
   "source": []
  },
  {
   "cell_type": "markdown",
   "metadata": {},
   "source": [
    "biGAP with variables in $\\{0,1\\}$ solved with the epsilon-constraint method using GLPK: "
   ]
  },
  {
   "cell_type": "code",
   "execution_count": null,
   "metadata": {},
   "outputs": [],
   "source": []
  },
  {
   "cell_type": "code",
   "execution_count": null,
   "metadata": {},
   "outputs": [],
   "source": []
  },
  {
   "cell_type": "code",
   "execution_count": null,
   "metadata": {},
   "outputs": [],
   "source": []
  },
  {
   "cell_type": "code",
   "execution_count": null,
   "metadata": {},
   "outputs": [],
   "source": []
  }
 ],
 "metadata": {
  "celltoolbar": "Raw Cell Format",
  "kernelspec": {
   "display_name": "Julia 1.10.5",
   "language": "julia",
   "name": "julia-1.10"
  },
  "language_info": {
   "file_extension": ".jl",
   "mimetype": "application/julia",
   "name": "julia",
   "version": "1.10.5"
  }
 },
 "nbformat": 4,
 "nbformat_minor": 4
}
