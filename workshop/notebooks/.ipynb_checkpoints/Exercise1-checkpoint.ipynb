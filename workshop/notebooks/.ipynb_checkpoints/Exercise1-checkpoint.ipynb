{
 "cells": [
  {
   "cell_type": "markdown",
   "metadata": {},
   "source": [
    "## Disclaimer\n",
    "\n",
    "**Environment:** This notebook has been developped for running with:\n",
    "\n",
    "- Julia v1.11.x\n",
    "- JuMP.jl v1.23.x\n",
    "- GLPK.jl v1.2.1\n",
    "- HiGHS v1.12.1\n",
    "\n",
    "**Author:** Xavier Gandibleux, Nantes (France)\n"
   ]
  },
  {
   "cell_type": "markdown",
   "metadata": {},
   "source": [
    "----"
   ]
  },
  {
   "cell_type": "markdown",
   "metadata": {},
   "source": [
    "## Exercise 1\n",
    "\n",
    "Given the 01 Unidimensional Knapsack Problem (01UKP) formulated by \n",
    "$$z=\\max\\big\\{px \\mid wx \\le c, \\ x\\in\\{0,1\\}^n\\big\\}$$\n",
    "\n",
    "and the numerical instance corresponding to \n",
    "$$n=5$$\n",
    "$$p=(5, 3, 2, 7, 4)$$\n",
    "$$w=(2, 8, 4, 2, 5)$$\n",
    "$$c=10$$\n",
    "\n",
    "answer to the following questions:\n",
    "\n",
    "1. implement an explicit formulation of the 01UKP with JuMP and display the model.\n",
    "2. compute the optimal solution using GLPK as MIP solver and display the solution.\n",
    "3. compute the linear relaxation using GLPK as LP solver and display the solution.\n",
    "4. extract the data from the numerical instance and initialize vectors `p` and `w`, and the scalar `c` with these data.\n",
    "5. given `p`, `w`, and `c`, implement an implicit formulation of the 01UKP with JuMP, compute and display the optimal solution.\n",
    "6. write a function `setup01UKP` which return a JuMP model corresponding to a 01UKP for a given instance described by `p`, `w`, and `c`.\n",
    "7. write a function `displayRes01UKP` which display for of a 01UKP the optimal solution $x^*$ and $z^*=f(x^*)$ on screen.\n",
    "8. using functions `setup01UKP` and `displayRes01UKP`, compute and display (if it is available) the optimal solution using GLPK as MIP solver.\n",
    "9. same question as before but using HiGHS as MIP solver.\n",
    "10. same question as before but turn off the printing output from the solver.\n",
    "11. save the 01UKP model with their data on a file named `my01UKP.lp`\n",
    "12. for the function `setup01UKP`, add the type to each parameters.\n",
    "13. for the function `displayRes01UKP`, add the type to the parameter.\n",
    "14. write a structure `kpData`gathering together the data of a 01UKP.\n",
    "15. create an instance `kpData` named `kpInstance` with the data from the numerical instance.\n",
    "16. write a function `displayDat01UKP` which display for a given instance `kpData` of 01UKP the data on screen.\n",
    "17. revise the function `setup01UKP` using as parameter a variable of type `kpData`\n",
    "18. using the function `displayDat01UKP`, display the data of a 01UKP stored in a variable of type `kpData`.\n",
    "19. write a structure `kpSol`gathering together the solution of a 01UKP.\n",
    "20. store in the variable `kpLP` and `kpIP` of type `kpSol` respectively the LP and IP optimal solution.\n",
    "21. using these codes, write a main program named `mySolverKP`devoted to solve the 01UKP."
   ]
  },
  {
   "cell_type": "markdown",
   "metadata": {},
   "source": [
    "## Answers:"
   ]
  },
  {
   "cell_type": "markdown",
   "metadata": {},
   "source": [
    "----\n",
    "### 1. implement and display an explicit formulation of the 01UKP with JuMP.\n",
    "*Notions: definition of an explicit model with JuMP*\n",
    "\n",
    "<ins>indications:</ins> an explicit formulation is a description in extension of a mathematical model (composed of variable(s), function(s), constraint(s)), and data. \n",
    "<br>\n",
    "<ins>Hints:</ins> the formulation to implement in JuMP is the following:\n",
    "$$ \\begin{aligned}\n",
    "\\max\\quad & 5 x_1 + 3 x_2 + 2 x_3 + 7 x_4 + 4 x_5\\\\\n",
    "\\text{Subject to} \\quad & 2 x_1 + 8 x_2 + 4 x_3 + 2 x_4 + 5 x_5 \\leq 10\\\\\n",
    " & x_1, x_2, x_3, x_4, x_5 \\in \\{0, 1\\}\\\\\n",
    "\\end{aligned} $$"
   ]
  },
  {
   "cell_type": "code",
   "execution_count": null,
   "metadata": {},
   "outputs": [],
   "source": []
  },
  {
   "cell_type": "markdown",
   "metadata": {},
   "source": [
    "----\n",
    "### 2. Compute and display the optimal solution of the 01UKP solved using GLPK as MIP solver. \n",
    "*Notions: optimizing a JuMP model, getting and displaying the results*"
   ]
  },
  {
   "cell_type": "code",
   "execution_count": null,
   "metadata": {},
   "outputs": [],
   "source": []
  },
  {
   "cell_type": "markdown",
   "metadata": {},
   "source": [
    "<br>\n",
    "<ins> Remark:</ins> in general, a MIP solver manages all decision variables as floating type variables. The values returned may be an approximation of integer values. Refine the output consequently. \n",
    "\n",
    "<ins> Hints:</ins> see functions `convert` and `round`."
   ]
  },
  {
   "cell_type": "code",
   "execution_count": null,
   "metadata": {},
   "outputs": [],
   "source": []
  },
  {
   "cell_type": "code",
   "execution_count": null,
   "metadata": {},
   "outputs": [],
   "source": []
  },
  {
   "cell_type": "code",
   "execution_count": null,
   "metadata": {},
   "outputs": [],
   "source": []
  },
  {
   "cell_type": "code",
   "execution_count": null,
   "metadata": {},
   "outputs": [],
   "source": []
  },
  {
   "cell_type": "markdown",
   "metadata": {},
   "source": [
    "----\n",
    "### 3. compute the linear relaxation using GLPK as LP solver and display the solution.\n",
    "*Notions: relaxing all discrete variables of a JuMP model*\n",
    "\n",
    "<ins>Hints:</ins> see `relax_integrality`"
   ]
  },
  {
   "cell_type": "code",
   "execution_count": null,
   "metadata": {},
   "outputs": [],
   "source": []
  },
  {
   "cell_type": "markdown",
   "metadata": {},
   "source": [
    "----\n",
    "### 4. extract the data from the numerical instance and initialize vectors `p` and `w`, and the scalar `c` with these data.\n",
    "*Notions: handling vectors in Julia*"
   ]
  },
  {
   "cell_type": "code",
   "execution_count": null,
   "metadata": {},
   "outputs": [],
   "source": []
  },
  {
   "cell_type": "markdown",
   "metadata": {},
   "source": [
    "----\n",
    "### 5. implement an implicit formulation of the 01UKP with JuMP, compute and display the optimal solution.\n",
    "*Notions: definition of an implicit model with JuMP, resolution, getting the results; \"for\" instruction in Julia*\n",
    "\n",
    "<ins>indications:</ins> an implicit formulation is a compact description of a mathematical model (composed of variable(s), function(s), constraint(s)), without data (they are externalized and represented in the formulation by parameters).\n",
    "<br>\n",
    "<ins>Hints:</ins> the formulation to implement in JuMP is the following:\n",
    "$$ \\begin{aligned}\n",
    "\\max\\quad & \\sum_{j=1}^{n} p_{j} x_{j}\\\\\n",
    "\\text{Subject to} \\quad & \\sum_{j=1}^{n} w_{j} x_{j} \\leq c\\\\\n",
    " & x_{j} \\in \\{0, 1\\} \\qquad  j=1,\\dots ,n\\\\\n",
    "\\end{aligned} $$"
   ]
  },
  {
   "cell_type": "code",
   "execution_count": null,
   "metadata": {},
   "outputs": [],
   "source": []
  },
  {
   "cell_type": "markdown",
   "metadata": {},
   "source": [
    "----\n",
    "### 6. write a function `setup01UKP` which return a JuMP model corresponding to a 01UKP for a given instance described by `p`, `w`, and `c`, without specifying the solver to use.\n",
    "*Notions: handling functions in Julia*"
   ]
  },
  {
   "cell_type": "code",
   "execution_count": null,
   "metadata": {},
   "outputs": [],
   "source": []
  },
  {
   "cell_type": "markdown",
   "metadata": {},
   "source": [
    "----\n",
    "### 7. write a function `displayRes01UKP` which display for of a 01UKP the optimal solution $x^*$ and $z^*=f(x^*)$ on screen.\n",
    "*Notions: refering the variables of a JuMP model* "
   ]
  },
  {
   "cell_type": "code",
   "execution_count": null,
   "metadata": {},
   "outputs": [],
   "source": []
  },
  {
   "cell_type": "markdown",
   "metadata": {},
   "source": [
    "----\n",
    "### 8. using functions `setup01UKP` and `displayRes01UKP`, compute and display the optimal solution (if it is available) using GLPK as MIP solver.\n",
    "*Notions: using user-defined functions; \"if\" instruction in Julia*"
   ]
  },
  {
   "cell_type": "code",
   "execution_count": null,
   "metadata": {},
   "outputs": [],
   "source": []
  },
  {
   "cell_type": "markdown",
   "metadata": {},
   "source": [
    "----\n",
    "### 9. same question as before but using HiGHS as MIP solver.\n",
    "*Notions: changing the MIP solver to use by JuMP*"
   ]
  },
  {
   "cell_type": "code",
   "execution_count": null,
   "metadata": {},
   "outputs": [],
   "source": []
  },
  {
   "cell_type": "markdown",
   "metadata": {},
   "source": [
    "----\n",
    "### 10. same question as before but turn off the printing output from the solver.\n",
    "*Notions: general options given to the MIP solver*"
   ]
  },
  {
   "cell_type": "code",
   "execution_count": null,
   "metadata": {},
   "outputs": [],
   "source": []
  },
  {
   "cell_type": "markdown",
   "metadata": {},
   "source": [
    "----\n",
    "### 11. save the 01UKP model with their data on a file named `my01UKP.lp`\n",
    "*Notions: saving a JuMP model on a file*"
   ]
  },
  {
   "cell_type": "code",
   "execution_count": null,
   "metadata": {},
   "outputs": [],
   "source": []
  },
  {
   "cell_type": "markdown",
   "metadata": {},
   "source": [
    "----\n",
    "### 12. for the function `setup01UKP`, add the type to each parameters.\n",
    "*Notions: types in Julia; typing a variable in Julia*\n",
    "\n",
    "<ins> Hints:</ins> see the function `typeof`"
   ]
  },
  {
   "cell_type": "code",
   "execution_count": null,
   "metadata": {},
   "outputs": [],
   "source": []
  },
  {
   "cell_type": "code",
   "execution_count": null,
   "metadata": {},
   "outputs": [],
   "source": []
  },
  {
   "cell_type": "code",
   "execution_count": null,
   "metadata": {},
   "outputs": [],
   "source": []
  },
  {
   "cell_type": "code",
   "execution_count": null,
   "metadata": {},
   "outputs": [],
   "source": []
  },
  {
   "cell_type": "markdown",
   "metadata": {},
   "source": [
    "----\n",
    "### 13. for the function `displayRes01UKP`, add the type to the parameter.\n",
    "*Notions: type of a JuMP model*"
   ]
  },
  {
   "cell_type": "code",
   "execution_count": null,
   "metadata": {},
   "outputs": [],
   "source": []
  },
  {
   "cell_type": "code",
   "execution_count": null,
   "metadata": {},
   "outputs": [],
   "source": []
  },
  {
   "cell_type": "markdown",
   "metadata": {},
   "source": [
    "----\n",
    "### 14. write a structure `kpData`gathering together the data of a 01UKP.\n",
    "*Notions: structures (objects) in Julia*"
   ]
  },
  {
   "cell_type": "code",
   "execution_count": null,
   "metadata": {},
   "outputs": [],
   "source": []
  },
  {
   "cell_type": "markdown",
   "metadata": {},
   "source": [
    "----\n",
    "### 15. create an instance `kpData` named `kpInstance` with the data from the numerical instance.\n",
    "*Notions: variable instanciated from a structure (object)*"
   ]
  },
  {
   "cell_type": "code",
   "execution_count": null,
   "metadata": {},
   "outputs": [],
   "source": []
  },
  {
   "cell_type": "markdown",
   "metadata": {},
   "source": [
    "----\n",
    "### 16. write a function `displayDat01UKP` which display for of a 01UKP the data on screen.\n",
    "*Notions: accessing to a member of a structure*"
   ]
  },
  {
   "cell_type": "code",
   "execution_count": null,
   "metadata": {},
   "outputs": [],
   "source": []
  },
  {
   "cell_type": "markdown",
   "metadata": {},
   "source": [
    "----\n",
    "### 17. revise the function `setup01UKP` using as parameter a variable of type `kpData`\n",
    "*Notions: function and methods; multiple dispatch*"
   ]
  },
  {
   "cell_type": "code",
   "execution_count": null,
   "metadata": {},
   "outputs": [],
   "source": []
  },
  {
   "cell_type": "markdown",
   "metadata": {},
   "source": [
    "----\n",
    "### 18. using the function `displayDat01UKP`, display the data of a 01UKP stored in a variable of type `kpData`."
   ]
  },
  {
   "cell_type": "code",
   "execution_count": null,
   "metadata": {},
   "outputs": [],
   "source": []
  },
  {
   "cell_type": "markdown",
   "metadata": {},
   "source": [
    "----\n",
    "### 19. write a structure `kpSol`gathering together the solution of a 01UKP.\n",
    "*Notions: hierarchy of types; parametric structure*\n",
    "\n",
    "<ins> Hints:</ins> see functions `supertype` and `subtypes`"
   ]
  },
  {
   "cell_type": "code",
   "execution_count": null,
   "metadata": {},
   "outputs": [],
   "source": []
  },
  {
   "cell_type": "code",
   "execution_count": null,
   "metadata": {},
   "outputs": [],
   "source": []
  },
  {
   "cell_type": "code",
   "execution_count": null,
   "metadata": {},
   "outputs": [],
   "source": []
  },
  {
   "cell_type": "markdown",
   "metadata": {},
   "source": [
    "----\n",
    "### 20. store in the variable `kpLP` and `kpIP` of type `kpSol` respectively the LP and IP optimal solution.\n",
    "*Notions: casting to a given type*"
   ]
  },
  {
   "cell_type": "code",
   "execution_count": null,
   "metadata": {},
   "outputs": [],
   "source": []
  },
  {
   "cell_type": "code",
   "execution_count": null,
   "metadata": {},
   "outputs": [],
   "source": []
  },
  {
   "cell_type": "code",
   "execution_count": null,
   "metadata": {},
   "outputs": [],
   "source": []
  },
  {
   "cell_type": "code",
   "execution_count": null,
   "metadata": {},
   "outputs": [],
   "source": []
  },
  {
   "cell_type": "code",
   "execution_count": null,
   "metadata": {},
   "outputs": [],
   "source": []
  },
  {
   "cell_type": "code",
   "execution_count": null,
   "metadata": {},
   "outputs": [],
   "source": [
    "       "
   ]
  },
  {
   "cell_type": "code",
   "execution_count": null,
   "metadata": {},
   "outputs": [],
   "source": []
  },
  {
   "cell_type": "markdown",
   "metadata": {},
   "source": [
    "----\n",
    "### 21. using this learning, implement the required codes to solve instances of the Linear Assignment Problem (LAP).\n"
   ]
  },
  {
   "cell_type": "code",
   "execution_count": null,
   "metadata": {},
   "outputs": [],
   "source": []
  }
 ],
 "metadata": {
  "celltoolbar": "Raw Cell Format",
  "kernelspec": {
   "display_name": "Julia 1.10.5",
   "language": "julia",
   "name": "julia-1.10"
  },
  "language_info": {
   "file_extension": ".jl",
   "mimetype": "application/julia",
   "name": "julia",
   "version": "1.10.5"
  }
 },
 "nbformat": 4,
 "nbformat_minor": 4
}
