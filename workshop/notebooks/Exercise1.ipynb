{
 "cells": [
  {
   "cell_type": "markdown",
   "metadata": {},
   "source": [
    "## Disclaimer\n",
    "\n",
    "**Environment:** This notebook has been developped for running with:\n",
    "\n",
    "- Julia v1.11.x\n",
    "- JuMP.jl v1.23.x\n",
    "- GLPK.jl v1.2.1\n",
    "- HiGHS v1.12.1\n",
    "\n",
    "**Author:** Xavier Gandibleux, Nantes (France)\n"
   ]
  },
  {
   "cell_type": "markdown",
   "metadata": {},
   "source": [
    "----"
   ]
  },
  {
   "cell_type": "markdown",
   "metadata": {},
   "source": [
    "## Exercise 1\n",
    "\n",
    "Given the 01 Unidimensional Knapsack Problem (01UKP) formulated by \n",
    "$$z=\\max\\big\\{px \\mid wx \\le c, \\ x\\in\\{0,1\\}^n\\big\\}$$\n",
    "\n",
    "and the numerical instance corresponding to \n",
    "$$n=5$$\n",
    "$$p=(5, 3, 2, 7, 4)$$\n",
    "$$w=(2, 8, 4, 2, 5)$$\n",
    "$$c=10$$\n",
    "\n",
    "answer to the following questions:\n",
    "\n",
    "1. implement an explicit formulation of the 01UKP with JuMP and display the model.\n",
    "2. compute the optimal solution using GLPK as MIP solver and display the solution.\n",
    "3. compute the linear relaxation using GLPK as LP solver and display the solution.\n",
    "4. extract the data from the numerical instance and initialize vectors `p` and `w`, and the scalar `c` with these data.\n",
    "5. given `p`, `w`, and `c`, implement an implicit formulation of the 01UKP with JuMP, compute and display the optimal solution.\n",
    "6. write a function `setup01UKP` which return a JuMP model corresponding to a 01UKP for a given instance described by `p`, `w`, and `c`.\n",
    "7. write a function `displayRes01UKP` which display for of a 01UKP the optimal solution $x^*$ and $z^*=f(x^*)$ on screen.\n",
    "8. using functions `setup01UKP` and `displayRes01UKP`, compute and display (if it is available) the optimal solution using GLPK as MIP solver.\n",
    "9. same question as before but using HiGHS as MIP solver.\n",
    "10. same question as before but turn off the printing output from the solver.\n",
    "11. save the 01UKP model with their data on a file named `my01UKP.lp`\n",
    "12. for the function `setup01UKP`, add the type to each parameters.\n",
    "13. for the function `displayRes01UKP`, add the type to the parameter.\n",
    "14. write a structure `kpData`gathering together the data of a 01UKP.\n",
    "15. create an instance `kpData` named `kpInstance` with the data from the numerical instance.\n",
    "16. write a function `displayDat01UKP` which display for a given instance `kpData` of 01UKP the data on screen.\n",
    "17. revise the function `setup01UKP` using as parameter a variable of type `kpData`\n",
    "18. using the function `displayDat01UKP`, display the data of a 01UKP stored in a variable of type `kpData`.\n",
    "19. write a structure `kpSol`gathering together the solution of a 01UKP.\n",
    "20. store in the variable `kpLP` and `kpIP` of type `kpSol` respectively the LP and IP optimal solution.\n",
    "21. using these codes, write a main program named `mySolverKP`devoted to solve the 01UKP."
   ]
  },
  {
   "cell_type": "markdown",
   "metadata": {},
   "source": [
    "## Answers:"
   ]
  },
  {
   "cell_type": "markdown",
   "metadata": {},
   "source": [
    "----\n",
    "### 1. implement and display an explicit formulation of the 01UKP with JuMP.\n",
    "*Notions: definition of an explicit model with JuMP*\n",
    "\n",
    "<ins>indications:</ins> an explicit formulation is a description in extension of a mathematical model (composed of variable(s), function(s), constraint(s)), and data. \n",
    "<br>\n",
    "<ins>Hints:</ins> the formulation to implement in JuMP is the following:\n",
    "$$ \\begin{aligned}\n",
    "\\max\\quad & 5 x_1 + 3 x_2 + 2 x_3 + 7 x_4 + 4 x_5\\\\\n",
    "\\text{Subject to} \\quad & 2 x_1 + 8 x_2 + 4 x_3 + 2 x_4 + 5 x_5 \\leq 10\\\\\n",
    " & x_1, x_2, x_3, x_4, x_5 \\in \\{0, 1\\}\\\\\n",
    "\\end{aligned} $$"
   ]
  },
  {
   "cell_type": "code",
   "execution_count": 91,
   "metadata": {},
   "outputs": [
    {
     "data": {
      "text/latex": [
       "$$ \\begin{aligned}\n",
       "\\max\\quad & 5 x1 + 3 x2 + 2 x3 + 7 x4 + 4 x5\\\\\n",
       "\\text{Subject to} \\quad & 2 x1 + 8 x2 + 4 x3 + 2 x4 + 5 x5 \\leq 10\\\\\n",
       " & x1 \\in \\{0, 1\\}\\\\\n",
       " & x2 \\in \\{0, 1\\}\\\\\n",
       " & x3 \\in \\{0, 1\\}\\\\\n",
       " & x4 \\in \\{0, 1\\}\\\\\n",
       " & x5 \\in \\{0, 1\\}\\\\\n",
       "\\end{aligned} $$"
      ]
     },
     "metadata": {},
     "output_type": "display_data"
    }
   ],
   "source": [
    "using JuMP, GLPK\n",
    "\n",
    "kp = Model(GLPK.Optimizer)\n",
    "@variable(kp, x1, Bin)\n",
    "@variable(kp, x2, Bin)\n",
    "@variable(kp, x3, Bin)\n",
    "@variable(kp, x4, Bin)\n",
    "@variable(kp, x5, Bin)\n",
    "@objective(kp, Max, 5x1 + 3x2 + 2x3 + 7x4 + 4x5)\n",
    "@constraint(kp, 2x1 + 8x2 + 4x3 + 2x4 + 5x5 ≤ 10)\n",
    "\n",
    "print(kp)"
   ]
  },
  {
   "cell_type": "markdown",
   "metadata": {},
   "source": [
    "----\n",
    "### 2. Compute and display the optimal solution of the 01UKP solved using GLPK as MIP solver. \n",
    "*Notions: optimizing a JuMP model, getting and displaying the results*"
   ]
  },
  {
   "cell_type": "code",
   "execution_count": 37,
   "metadata": {},
   "outputs": [
    {
     "name": "stdout",
     "output_type": "stream",
     "text": [
      "zOpt: 16.0\n",
      "xOpt: 1.0|1  0.0|2  0.0|3  1.0|4  1.0|5\n"
     ]
    }
   ],
   "source": [
    "optimize!(kp)\n",
    "\n",
    "println(\"zOpt: \", objective_value(kp))\n",
    "println(\"xOpt: \", value(x1),\"|1  \", value(x2),\"|2  \", value(x3),\"|3  \", value(x4),\"|4  \", value(x5),\"|5\")"
   ]
  },
  {
   "cell_type": "markdown",
   "metadata": {},
   "source": [
    "<br>\n",
    "<ins> Remark:</ins> in general, a MIP solver manages all decision variables as floating type variables. The values returned may be an approximation of integer values. Refine the output consequently. \n",
    "\n",
    "<ins> Hints:</ins> see functions `convert` and `round`."
   ]
  },
  {
   "cell_type": "code",
   "execution_count": 38,
   "metadata": {},
   "outputs": [
    {
     "data": {
      "text/plain": [
       "1"
      ]
     },
     "execution_count": 38,
     "metadata": {},
     "output_type": "execute_result"
    }
   ],
   "source": [
    "convert(Int,value(x1))"
   ]
  },
  {
   "cell_type": "code",
   "execution_count": 41,
   "metadata": {},
   "outputs": [
    {
     "ename": "LoadError",
     "evalue": "InexactError: Int64(0.999)",
     "output_type": "error",
     "traceback": [
      "InexactError: Int64(0.999)",
      "",
      "Stacktrace:",
      " [1] Int64",
      "   @ ./float.jl:912 [inlined]",
      " [2] convert(::Type{Int64}, x::Float64)",
      "   @ Base ./number.jl:7",
      " [3] top-level scope",
      "   @ In[41]:1"
     ]
    }
   ],
   "source": [
    "convert(Int,0.999)"
   ]
  },
  {
   "cell_type": "code",
   "execution_count": 44,
   "metadata": {},
   "outputs": [
    {
     "data": {
      "text/plain": [
       "1.0"
      ]
     },
     "execution_count": 44,
     "metadata": {},
     "output_type": "execute_result"
    }
   ],
   "source": [
    "round(0.999,digits=0)"
   ]
  },
  {
   "cell_type": "code",
   "execution_count": 43,
   "metadata": {},
   "outputs": [
    {
     "data": {
      "text/plain": [
       "1"
      ]
     },
     "execution_count": 43,
     "metadata": {},
     "output_type": "execute_result"
    }
   ],
   "source": [
    "convert(Int, round(0.999,digits=0))"
   ]
  },
  {
   "cell_type": "markdown",
   "metadata": {},
   "source": [
    "----\n",
    "### 3. compute the linear relaxation using GLPK as LP solver and display the solution.\n",
    "*Notions: relaxing all discrete variables of a JuMP model*\n",
    "\n",
    "<ins>Hints:</ins> see `relax_integrality`"
   ]
  },
  {
   "cell_type": "code",
   "execution_count": null,
   "metadata": {},
   "outputs": [],
   "source": [
    "relax = relax_integrality(kp) # all variables are continuous\n",
    "print(kp)\n",
    "\n",
    "optimize!(kp)\n",
    "println(\"zOpt: \", objective_value(kp))\n",
    "println(\"xOpt:  1| \", value(x1),\"  2| \", value(x2),\"  3| \", value(x3),\"  4| \", value(x4),\"  5| \", value(x5))\n",
    "\n",
    "relax() # restore the definition of variables"
   ]
  },
  {
   "cell_type": "markdown",
   "metadata": {},
   "source": [
    "----\n",
    "### 4. extract the data from the numerical instance and initialize vectors `p` and `w`, and the scalar `c` with these data.\n",
    "*Notions: handling vectors in Julia*"
   ]
  },
  {
   "cell_type": "code",
   "execution_count": 3,
   "metadata": {},
   "outputs": [
    {
     "data": {
      "text/plain": [
       "10"
      ]
     },
     "execution_count": 3,
     "metadata": {},
     "output_type": "execute_result"
    }
   ],
   "source": [
    "p = [ 5, 3, 2, 7, 4 ]\n",
    "w = [ 2, 8, 4, 2, 5 ]\n",
    "c = 10"
   ]
  },
  {
   "cell_type": "markdown",
   "metadata": {},
   "source": [
    "----\n",
    "### 5. implement an implicit formulation of the 01UKP with JuMP, compute and display the optimal solution.\n",
    "*Notions: definition of an implicit model with JuMP, resolution, getting the results; \"for\" instruction in Julia*\n",
    "\n",
    "<ins>indications:</ins> an implicit formulation is a compact description of a mathematical model (composed of variable(s), function(s), constraint(s)), without data (they are externalized and represented in the formulation by parameters).\n",
    "<br>\n",
    "<ins>Hints:</ins> the formulation to implement in JuMP is the following:\n",
    "$$ \\begin{aligned}\n",
    "\\max\\quad & \\sum_{j=1}^{n} p_{j} x_{j}\\\\\n",
    "\\text{Subject to} \\quad & \\sum_{j=1}^{n} w_{j} x_{j} \\leq c\\\\\n",
    " & x_{j} \\in \\{0, 1\\} \\qquad  j=1,\\dots ,n\\\\\n",
    "\\end{aligned} $$"
   ]
  },
  {
   "cell_type": "code",
   "execution_count": 6,
   "metadata": {},
   "outputs": [
    {
     "name": "stdout",
     "output_type": "stream",
     "text": [
      "zOpt: 16.0\n",
      "xOpt: 1|1  0|2  0|3  1|4  1|5  "
     ]
    }
   ],
   "source": [
    "using Printf\n",
    "\n",
    "kp = Model(GLPK.Optimizer)\n",
    "n = length(p)\n",
    "@variable(kp, x[1:n], Bin)\n",
    "@objective(kp, Max, sum(p[j]*x[j] for j=1:n))\n",
    "@constraint(kp, sum(w[j]*x[j] for j=1:n) ≤ c)\n",
    "\n",
    "optimize!(kp)\n",
    "\n",
    "println(\"zOpt: \", objective_value(kp))\n",
    "print(\"xOpt: \")\n",
    "for i = 1:n\n",
    "    @printf(\"%1.0f|%1d  \",value(x[i]),i)\n",
    "end"
   ]
  },
  {
   "cell_type": "markdown",
   "metadata": {},
   "source": [
    "----\n",
    "### 6. write a function `setup01UKP` which return a JuMP model corresponding to a 01UKP for a given instance described by `p`, `w`, and `c`, without specifying the solver to use.\n",
    "*Notions: handling functions in Julia*"
   ]
  },
  {
   "cell_type": "code",
   "execution_count": 7,
   "metadata": {},
   "outputs": [
    {
     "data": {
      "text/plain": [
       "setup01UKP (generic function with 1 method)"
      ]
     },
     "execution_count": 7,
     "metadata": {},
     "output_type": "execute_result"
    }
   ],
   "source": [
    "function setup01UKP( p, w, c )\n",
    "    \n",
    "    kp = Model( )\n",
    "    n = length(p)\n",
    "    @variable(kp, x[1:n], Bin)\n",
    "    @objective(kp, Max, sum(p[j]*x[j] for j=1:n))\n",
    "    @constraint(kp, sum(w[j]*x[j] for j=1:n) ≤ c)\n",
    "    \n",
    "    return kp\n",
    "end"
   ]
  },
  {
   "cell_type": "markdown",
   "metadata": {},
   "source": [
    "----\n",
    "### 7. write a function `displayRes01UKP` which display for of a 01UKP the optimal solution $x^*$ and $z^*=f(x^*)$ on screen.\n",
    "*Notions: refering the variables of a JuMP model* "
   ]
  },
  {
   "cell_type": "code",
   "execution_count": 10,
   "metadata": {},
   "outputs": [
    {
     "data": {
      "text/plain": [
       "displayRes01UKP (generic function with 1 method)"
      ]
     },
     "execution_count": 10,
     "metadata": {},
     "output_type": "execute_result"
    }
   ],
   "source": [
    "function displayRes01UKP(kp)\n",
    "    \n",
    "    println(\"zOpt: \", objective_value( kp ))\n",
    "    print(\"xOpt: \")\n",
    "    for i = 1:n\n",
    "        @printf(\"%1.0f|%1d  \",value( kp[:x][i]),i)\n",
    "    end\n",
    "    \n",
    "    return nothing\n",
    "end"
   ]
  },
  {
   "cell_type": "markdown",
   "metadata": {},
   "source": [
    "----\n",
    "### 8. using functions `setup01UKP` and `displayRes01UKP`, compute and display the optimal solution (if it is available) using GLPK as MIP solver.\n",
    "*Notions: using user-defined functions; \"if\" instruction in Julia*"
   ]
  },
  {
   "cell_type": "code",
   "execution_count": 11,
   "metadata": {},
   "outputs": [
    {
     "data": {
      "text/latex": [
       "$$ \\begin{aligned}\n",
       "\\max\\quad & 5 x_{1} + 3 x_{2} + 2 x_{3} + 7 x_{4} + 4 x_{5}\\\\\n",
       "\\text{Subject to} \\quad & 2 x_{1} + 8 x_{2} + 4 x_{3} + 2 x_{4} + 5 x_{5} \\leq 10\\\\\n",
       " & x_{1} \\in \\{0, 1\\}\\\\\n",
       " & x_{2} \\in \\{0, 1\\}\\\\\n",
       " & x_{3} \\in \\{0, 1\\}\\\\\n",
       " & x_{4} \\in \\{0, 1\\}\\\\\n",
       " & x_{5} \\in \\{0, 1\\}\\\\\n",
       "\\end{aligned} $$"
      ]
     },
     "metadata": {},
     "output_type": "display_data"
    },
    {
     "name": "stdout",
     "output_type": "stream",
     "text": [
      "zOpt: 16.0\n",
      "xOpt: 1|1  0|2  0|3  1|4  1|5  "
     ]
    }
   ],
   "source": [
    "kp = setup01UKP( p, w, c )\n",
    "print(kp)\n",
    "\n",
    "set_optimizer(kp, GLPK.Optimizer)\n",
    "optimize!(kp)\n",
    "\n",
    "if is_solved_and_feasible(kp)\n",
    "    displayRes01UKP(kp)\n",
    "else\n",
    "    println(\"No solution available\")\n",
    "end"
   ]
  },
  {
   "cell_type": "markdown",
   "metadata": {},
   "source": [
    "----\n",
    "### 9. same question as before but using HiGHS as MIP solver.\n",
    "*Notions: changing the MIP solver to use by JuMP*"
   ]
  },
  {
   "cell_type": "code",
   "execution_count": 12,
   "metadata": {},
   "outputs": [
    {
     "name": "stdout",
     "output_type": "stream",
     "text": [
      "Running HiGHS 1.8.1 (git hash: 4a7f24ac6): Copyright (c) 2024 HiGHS under MIT licence terms\n",
      "Coefficient ranges:\n",
      "  Matrix [2e+00, 8e+00]\n",
      "  Cost   [2e+00, 7e+00]\n",
      "  Bound  [1e+00, 1e+00]\n",
      "  RHS    [1e+01, 1e+01]\n",
      "Presolving model\n",
      "1 rows, 5 cols, 5 nonzeros  0s\n",
      "1 rows, 4 cols, 4 nonzeros  0s\n",
      "Objective function is integral with scale 1\n",
      "\n",
      "Solving MIP model with:\n",
      "   1 rows\n",
      "   4 cols (4 binary, 0 integer, 0 implied int., 0 continuous)\n",
      "   4 nonzeros\n",
      "\n",
      "Src: B => Branching; C => Central rounding; F => Feasibility pump; H => Heuristic; L => Sub-MIP;\n",
      "     P => Empty MIP; R => Randomized rounding; S => Solve LP; T => Evaluate node; U => Unbounded;\n",
      "     z => Trivial zero; l => Trivial lower; u => Trivial upper; p => Trivial point\n",
      "\n",
      "        Nodes      |    B&B Tree     |            Objective Bounds              |  Dynamic Constraints |       Work      \n",
      "Src  Proc. InQueue |  Leaves   Expl. | BestBound       BestSol              Gap |   Cuts   InLp Confl. | LpIters     Time\n",
      "\n",
      " z       0       0         0   0.00%   inf             -0                 Large        0     -1      0         0     0.0s\n",
      "MIP-Timing:      0.0019 - starting analytic centre calculation\n",
      " T       0       0         0 100.00%   18              16                12.50%        0      0      0         1     0.0s\n",
      "         1       0         1 100.00%   16              16                 0.00%        0      0      0         1     0.0s\n",
      "\n",
      "Solving report\n",
      "  Status            Optimal\n",
      "  Primal bound      16\n",
      "  Dual bound        16\n",
      "  Gap               0% (tolerance: 0.01%)\n",
      "  P-D integral      6.30039721727e-07\n",
      "  Solution status   feasible\n",
      "                    16 (objective)\n",
      "                    0 (bound viol.)\n",
      "                    0 (int. viol.)\n",
      "                    0 (row viol.)\n",
      "  Timing            0.00 (total)\n",
      "                    0.00 (presolve)\n",
      "                    0.00 (solve)\n",
      "                    0.00 (postsolve)\n",
      "  Max sub-MIP depth 0\n",
      "  Nodes             1\n",
      "  Repair LPs        0 (0 feasible; 0 iterations)\n",
      "  LP iterations     1 (total)\n",
      "                    0 (strong br.)\n",
      "                    0 (separation)\n",
      "                    0 (heuristics)\n",
      "zOpt: 16.0\n",
      "xOpt: 1|1  0|2  -0|3  1|4  1|5  "
     ]
    }
   ],
   "source": [
    "using HiGHS\n",
    "\n",
    "set_optimizer(kp, HiGHS.Optimizer)\n",
    "optimize!(kp)\n",
    "\n",
    "if is_solved_and_feasible(kp)\n",
    "    displayRes01UKP(kp)\n",
    "else\n",
    "    println(\"No solution available\")\n",
    "end"
   ]
  },
  {
   "cell_type": "markdown",
   "metadata": {},
   "source": [
    "----\n",
    "### 10. same question as before but turn off the printing output from the solver.\n",
    "*Notions: general options given to the MIP solver*"
   ]
  },
  {
   "cell_type": "code",
   "execution_count": 13,
   "metadata": {},
   "outputs": [
    {
     "name": "stdout",
     "output_type": "stream",
     "text": [
      "zOpt: 16.0\n",
      "xOpt: 1|1  0|2  -0|3  1|4  1|5  "
     ]
    }
   ],
   "source": [
    "set_silent(kp)\n",
    "optimize!(kp)\n",
    "\n",
    "if is_solved_and_feasible(kp)\n",
    "    displayRes01UKP(kp)\n",
    "else\n",
    "    println(\"No solution available\")\n",
    "end"
   ]
  },
  {
   "cell_type": "markdown",
   "metadata": {},
   "source": [
    "----\n",
    "### 11. save the 01UKP model with their data on a file named `my01UKP.lp`\n",
    "*Notions: saving a JuMP model on a file*"
   ]
  },
  {
   "cell_type": "code",
   "execution_count": 14,
   "metadata": {},
   "outputs": [],
   "source": [
    "write_to_file(kp,\"my01UKP.lp\")"
   ]
  },
  {
   "cell_type": "markdown",
   "metadata": {},
   "source": [
    "----\n",
    "### 12. for the function `setup01UKP`, add the type to each parameters.\n",
    "*Notions: types in Julia; typing a variable in Julia*\n",
    "\n",
    "<ins> Hints:</ins> see the function `typeof`"
   ]
  },
  {
   "cell_type": "code",
   "execution_count": 15,
   "metadata": {},
   "outputs": [
    {
     "data": {
      "text/plain": [
       "Vector{Int64}\u001b[90m (alias for \u001b[39m\u001b[90mArray{Int64, 1}\u001b[39m\u001b[90m)\u001b[39m"
      ]
     },
     "execution_count": 15,
     "metadata": {},
     "output_type": "execute_result"
    }
   ],
   "source": [
    "typeof(p)"
   ]
  },
  {
   "cell_type": "code",
   "execution_count": 16,
   "metadata": {},
   "outputs": [
    {
     "data": {
      "text/plain": [
       "Vector{Int64}\u001b[90m (alias for \u001b[39m\u001b[90mArray{Int64, 1}\u001b[39m\u001b[90m)\u001b[39m"
      ]
     },
     "execution_count": 16,
     "metadata": {},
     "output_type": "execute_result"
    }
   ],
   "source": [
    "typeof(w)"
   ]
  },
  {
   "cell_type": "code",
   "execution_count": 17,
   "metadata": {},
   "outputs": [
    {
     "data": {
      "text/plain": [
       "Int64"
      ]
     },
     "execution_count": 17,
     "metadata": {},
     "output_type": "execute_result"
    }
   ],
   "source": [
    "typeof(c)"
   ]
  },
  {
   "cell_type": "code",
   "execution_count": 18,
   "metadata": {},
   "outputs": [
    {
     "data": {
      "text/plain": [
       "setup01UKP (generic function with 2 methods)"
      ]
     },
     "execution_count": 18,
     "metadata": {},
     "output_type": "execute_result"
    }
   ],
   "source": [
    "function setup01UKP( p::Vector{Int64}, w::Vector{Int64}, c::Int64 )\n",
    "    \n",
    "    kp = Model( )\n",
    "    n = length(p)\n",
    "    @variable(kp, x[1:n], Bin)\n",
    "    @objective(kp, Max, sum(p[j]*x[j] for j=1:n))\n",
    "    @constraint(kp, sum(w[j]*x[j] for j=1:n) ≤ c)\n",
    "    \n",
    "    return kp\n",
    "end"
   ]
  },
  {
   "cell_type": "markdown",
   "metadata": {},
   "source": [
    "----\n",
    "### 13. for the function `displayRes01UKP`, add the type to the parameter.\n",
    "*Notions: type of a JuMP model*"
   ]
  },
  {
   "cell_type": "code",
   "execution_count": 20,
   "metadata": {},
   "outputs": [
    {
     "data": {
      "text/plain": [
       "Model\u001b[90m (alias for \u001b[39m\u001b[90mGenericModel{Float64}\u001b[39m\u001b[90m)\u001b[39m"
      ]
     },
     "execution_count": 20,
     "metadata": {},
     "output_type": "execute_result"
    }
   ],
   "source": [
    "typeof(kp)"
   ]
  },
  {
   "cell_type": "code",
   "execution_count": 19,
   "metadata": {},
   "outputs": [
    {
     "data": {
      "text/plain": [
       "displayRes01UKP (generic function with 2 methods)"
      ]
     },
     "execution_count": 19,
     "metadata": {},
     "output_type": "execute_result"
    }
   ],
   "source": [
    "function displayRes01UKP(kp::Model)\n",
    "    \n",
    "    println(\"zOpt: \", objective_value( kp ))\n",
    "    print(\"xOpt: \")\n",
    "    for i = 1:n\n",
    "        @printf(\" %1d|%1.0f \",i, value( kp[:x][i]) )\n",
    "    end\n",
    "    \n",
    "    return nothing\n",
    "end"
   ]
  },
  {
   "cell_type": "markdown",
   "metadata": {},
   "source": [
    "----\n",
    "### 14. write a structure `kpData`gathering together the data of a 01UKP.\n",
    "*Notions: structures (objects) in Julia*"
   ]
  },
  {
   "cell_type": "code",
   "execution_count": 21,
   "metadata": {},
   "outputs": [],
   "source": [
    "mutable struct kpData\n",
    "    p::Vector{Int64}\n",
    "    w::Vector{Int64}\n",
    "    c::Int64\n",
    "end"
   ]
  },
  {
   "cell_type": "markdown",
   "metadata": {},
   "source": [
    "----\n",
    "### 15. create an instance `kpData` named `kpInstance` with the data from the numerical instance.\n",
    "*Notions: variable instanciated from a structure (object)*"
   ]
  },
  {
   "cell_type": "code",
   "execution_count": 22,
   "metadata": {},
   "outputs": [
    {
     "data": {
      "text/plain": [
       "kpData([5, 3, 2, 7, 4], [2, 8, 4, 2, 5], 10)"
      ]
     },
     "execution_count": 22,
     "metadata": {},
     "output_type": "execute_result"
    }
   ],
   "source": [
    "kpInstance = kpData([5, 3, 2, 7, 4], [2, 8, 4, 2, 5], 10)"
   ]
  },
  {
   "cell_type": "markdown",
   "metadata": {},
   "source": [
    "----\n",
    "### 16. write a function `displayDat01UKP` which display for of a 01UKP the data on screen.\n",
    "*Notions: accessing to a member of a structure*"
   ]
  },
  {
   "cell_type": "code",
   "execution_count": 74,
   "metadata": {},
   "outputs": [
    {
     "data": {
      "text/plain": [
       "displayDat01UKP (generic function with 1 method)"
      ]
     },
     "execution_count": 74,
     "metadata": {},
     "output_type": "execute_result"
    }
   ],
   "source": [
    "function displayDat01UKP(instance::kpData)\n",
    "\n",
    "    n = length(instance.p)\n",
    "    \n",
    "    print(\"i: \")\n",
    "    for i = 1:n\n",
    "        @printf(\"%3.0f \", i)\n",
    "    end\n",
    "    print(\"\\np: \")\n",
    "    for i = 1:n\n",
    "        @printf(\"%3.0f \", instance.p[i])\n",
    "    end\n",
    "    print(\"\\nw: \")\n",
    "    for i = 1:n\n",
    "        @printf(\"%3.0f \", instance.w[i])\n",
    "    end    \n",
    "    println(\"  |  c:  \",instance.c)\n",
    "    \n",
    "    return nothing\n",
    "end"
   ]
  },
  {
   "cell_type": "markdown",
   "metadata": {},
   "source": [
    "----\n",
    "### 17. revise the function `setup01UKP` using as parameter a variable of type `kpData`\n",
    "*Notions: function and methods; multiple dispatch*"
   ]
  },
  {
   "cell_type": "code",
   "execution_count": 35,
   "metadata": {},
   "outputs": [
    {
     "data": {
      "text/plain": [
       "setup01UKP (generic function with 3 methods)"
      ]
     },
     "execution_count": 35,
     "metadata": {},
     "output_type": "execute_result"
    }
   ],
   "source": [
    "function setup01UKP(instance::kpData)\n",
    "    \n",
    "    kp = Model( )\n",
    "    n = length(instance.p)\n",
    "    @variable(kp, x[1:n], Bin)\n",
    "    @objective(kp, Max, sum(instance.p[j]*x[j] for j=1:n))\n",
    "    @constraint(kp, sum(instance.w[j]*x[j] for j=1:n) ≤ instance.c)\n",
    "    \n",
    "    return kp\n",
    "end"
   ]
  },
  {
   "cell_type": "markdown",
   "metadata": {},
   "source": [
    "----\n",
    "### 18. using the function `displayDat01UKP`, display the data of a 01UKP stored in a variable of type `kpData`."
   ]
  },
  {
   "cell_type": "code",
   "execution_count": 75,
   "metadata": {},
   "outputs": [
    {
     "name": "stdout",
     "output_type": "stream",
     "text": [
      "i:   1   2   3   4   5 \n",
      "p:   5   3   2   7   4 \n",
      "w:   2   8   4   2   5   |  c:  10\n"
     ]
    }
   ],
   "source": [
    "displayDat01UKP(kpInstance)"
   ]
  },
  {
   "cell_type": "markdown",
   "metadata": {},
   "source": [
    "----\n",
    "### 19. write a structure `kpSol`gathering together the solution of a 01UKP.\n",
    "*Notions: hierarchy of types; parametric structure*\n",
    "\n",
    "<ins> Hints:</ins> see functions `supertype` and `subtypes`"
   ]
  },
  {
   "cell_type": "code",
   "execution_count": 88,
   "metadata": {},
   "outputs": [
    {
     "data": {
      "text/plain": [
       "Number"
      ]
     },
     "execution_count": 88,
     "metadata": {},
     "output_type": "execute_result"
    }
   ],
   "source": [
    "supertype(Real)"
   ]
  },
  {
   "cell_type": "code",
   "execution_count": 89,
   "metadata": {},
   "outputs": [
    {
     "data": {
      "text/plain": [
       "5-element Vector{Any}:\n",
       " AbstractFloat\n",
       " AbstractIrrational\n",
       " ForwardDiff.Dual\n",
       " Integer\n",
       " Rational"
      ]
     },
     "execution_count": 89,
     "metadata": {},
     "output_type": "execute_result"
    }
   ],
   "source": [
    "subtypes(Real)"
   ]
  },
  {
   "cell_type": "code",
   "execution_count": 29,
   "metadata": {},
   "outputs": [],
   "source": [
    "mutable struct kpSol{T<:Real}\n",
    "    z::T\n",
    "    x::Vector{T}\n",
    "end"
   ]
  },
  {
   "cell_type": "markdown",
   "metadata": {},
   "source": [
    "----\n",
    "### 20. store in the variable `kpLP` and `kpIP` of type `kpSol` respectively the LP and IP optimal solution.\n",
    "*Notions: casting to a given type*"
   ]
  },
  {
   "cell_type": "code",
   "execution_count": 30,
   "metadata": {},
   "outputs": [
    {
     "data": {
      "text/plain": [
       "5"
      ]
     },
     "execution_count": 30,
     "metadata": {},
     "output_type": "execute_result"
    }
   ],
   "source": [
    "convert(Int,5.0)"
   ]
  },
  {
   "cell_type": "code",
   "execution_count": 31,
   "metadata": {},
   "outputs": [
    {
     "data": {
      "text/plain": [
       "2-element Vector{Int64}:\n",
       " 5\n",
       " 3"
      ]
     },
     "execution_count": 31,
     "metadata": {},
     "output_type": "execute_result"
    }
   ],
   "source": [
    "convert.(Int, [5.0,3.0])"
   ]
  },
  {
   "cell_type": "code",
   "execution_count": 64,
   "metadata": {},
   "outputs": [],
   "source": [
    "kp = setup01UKP( p, w, c )\n",
    "n = length(kpInstance.p)\n",
    "set_optimizer(kp, GLPK.Optimizer)"
   ]
  },
  {
   "cell_type": "code",
   "execution_count": 60,
   "metadata": {},
   "outputs": [
    {
     "name": "stdout",
     "output_type": "stream",
     "text": [
      "kpOpt = kpSol{Float64}(16.5, [1.0, 0.0, 0.25, 1.0, 1.0])\n"
     ]
    },
    {
     "data": {
      "text/plain": [
       "kpSol{Float64}(16.5, [1.0, 0.0, 0.25, 1.0, 1.0])"
      ]
     },
     "execution_count": 60,
     "metadata": {},
     "output_type": "execute_result"
    }
   ],
   "source": [
    "# 0≤x≤1\n",
    "relax = relax_integrality(kp) \n",
    "optimize!(kp)\n",
    "\n",
    "kpOpt = kpSol(0.0,zeros(n))\n",
    "kpOpt.z = objective_value(kp)\n",
    "kpOpt.x = value.(kp[:x])\n",
    "\n",
    "relax()\n",
    "\n",
    "@show kpOpt"
   ]
  },
  {
   "cell_type": "code",
   "execution_count": 65,
   "metadata": {},
   "outputs": [
    {
     "name": "stdout",
     "output_type": "stream",
     "text": [
      "kpOpt = kpSol{Int64}(16, [1, 0, 0, 1, 1])\n"
     ]
    },
    {
     "data": {
      "text/plain": [
       "kpSol{Int64}(16, [1, 0, 0, 1, 1])"
      ]
     },
     "execution_count": 65,
     "metadata": {},
     "output_type": "execute_result"
    }
   ],
   "source": [
    "# x ∈ {0,1}\n",
    "optimize!(kp)\n",
    "\n",
    "kpOpt = kpSol(0,zeros(Int,n))\n",
    "kpOpt.z = convert(Int, objective_value(kp))\n",
    "kpOpt.x = convert.(Int,value.(kp[:x]))\n",
    "\n",
    "@show kpOpt"
   ]
  },
  {
   "cell_type": "code",
   "execution_count": 66,
   "metadata": {},
   "outputs": [
    {
     "data": {
      "text/plain": [
       "getSolution (generic function with 2 methods)"
      ]
     },
     "execution_count": 66,
     "metadata": {},
     "output_type": "execute_result"
    }
   ],
   "source": [
    "function getSolution(kp::Model)\n",
    "    \n",
    "    n = length(all_variables(kp))\n",
    "\n",
    "    if is_binary(kp[:x][1])        \n",
    "        kpOpt = kpSol(0, zeros(Int,n))\n",
    "        kpOpt.z = convert(Int, objective_value(kp))\n",
    "        kpOpt.x = convert.(Int,value.(kp[:x]))\n",
    "        return kpOpt\n",
    "    else\n",
    "        kpOpt = kpSol(0.0, zeros(n))\n",
    "        kpOpt.z = objective_value(kp)\n",
    "        kpOpt.x = value.(kp[:x])\n",
    "        return kpOpt\n",
    "    end\n",
    "end        "
   ]
  },
  {
   "cell_type": "code",
   "execution_count": 85,
   "metadata": {},
   "outputs": [
    {
     "data": {
      "text/plain": [
       "displayRes01UKP (generic function with 3 methods)"
      ]
     },
     "execution_count": 85,
     "metadata": {},
     "output_type": "execute_result"
    }
   ],
   "source": [
    "function displayRes01UKP(solution::kpSol)\n",
    "    \n",
    "    println(\"zOpt: \", solution.z)\n",
    "    print(\"xOpt: \")\n",
    "    for i = 1:length(solution.x)\n",
    "        @printf(\"%1.0f|%1d  \",solution.x[i],i)\n",
    "    end\n",
    "    \n",
    "    return nothing\n",
    "end"
   ]
  },
  {
   "cell_type": "markdown",
   "metadata": {},
   "source": [
    "----\n",
    "### 21. using this learning, implement the required codes to solve instances of the Linear Assignment Problem (LAP).\n"
   ]
  },
  {
   "cell_type": "code",
   "execution_count": 112,
   "metadata": {},
   "outputs": [
    {
     "name": "stdout",
     "output_type": "stream",
     "text": [
      "zOpt: 6.0\n",
      "xOpt: x[1,4]=1  x[2,2]=1  x[3,1]=1  x[4,5]=1  x[5,3]=1  "
     ]
    }
   ],
   "source": [
    "using Printf, JuMP, GLPK\n",
    "function mySolverLAP()\n",
    "\n",
    "    c  = [ 3 9 0 0 6 ; 16 0 6 12 19 ; 2 7 11 15 8 ; 4 11 7 16 3 ; 2 5 1 9 0 ]\n",
    "    n = size(c,1)\n",
    "\n",
    "    lap = Model( )\n",
    "    @variable( lap, x[1:n,1:n] , Bin )\n",
    "    @objective( lap, Min, sum( c[i,j]*x[i,j] for i=1:n,j=1:n ))\n",
    "    @constraint( lap, cols[i=1:n], sum(x[i,j] for j=1:n) == 1 )\n",
    "    @constraint( lap, rows[j=1:n], sum(x[i,j] for i=1:n) == 1 )\n",
    "    \n",
    "    set_optimizer(lap, GLPK.Optimizer)\n",
    "    optimize!(lap)\n",
    "  \n",
    "    if is_solved_and_feasible(lap)\n",
    "        println(\"zOpt: \", objective_value( lap ))\n",
    "        print(\"xOpt: \")\n",
    "        for i = 1:n, j =1:n\n",
    "            if value(lap[:x][i,j]) > 0.5 \n",
    "                @printf(\"x[%1d,%1d]=1  \", i, j)\n",
    "            end\n",
    "        end\n",
    "    end\n",
    "\n",
    "    return nothing\n",
    "end\n",
    "mySolverLAP()"
   ]
  }
 ],
 "metadata": {
  "celltoolbar": "Raw Cell Format",
  "kernelspec": {
   "display_name": "Julia 1.10.5",
   "language": "julia",
   "name": "julia-1.10"
  },
  "language_info": {
   "file_extension": ".jl",
   "mimetype": "application/julia",
   "name": "julia",
   "version": "1.10.5"
  }
 },
 "nbformat": 4,
 "nbformat_minor": 4
}
