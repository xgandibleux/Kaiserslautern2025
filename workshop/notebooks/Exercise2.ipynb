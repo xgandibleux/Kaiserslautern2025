{
 "cells": [
  {
   "cell_type": "markdown",
   "metadata": {},
   "source": [
    "## Disclaimer\n",
    "\n",
    "**Environment:** This notebook has been developped for running with:\n",
    "\n",
    "- Julia v1.11.x\n",
    "- JuMP.jl v1.23.x\n",
    "- GLPK.jl v1.2.1\n",
    "- HiGHS v1.12.1\n",
    "\n",
    "**Author:** Xavier Gandibleux, Nantes (France)\n"
   ]
  },
  {
   "cell_type": "markdown",
   "metadata": {},
   "source": [
    "----"
   ]
  },
  {
   "cell_type": "markdown",
   "metadata": {},
   "source": [
    "## Exercise 2 \n",
    "For \n",
    "- the unidimensional 01 knapsack problem, and\n",
    "- the corresponding numerical instance\n",
    "  \n",
    "from Exercise 1, \n",
    "1. Write a function in Julia which computes the linear relaxation of the problem using the Dantzig bound.\n",
    "2. Compute the linear relaxation for this instance.\n",
    "\n",
    "<ins>Reminder:</ins> \n",
    "\n",
    "Compute:\n",
    "$$ \n",
    "\\begin{aligned}\n",
    "\\max\\quad & \\sum_{j=1}^{n} p_{j} x_{j}\\\\\n",
    "\\text{Subject to} \\quad & \\sum_{j=1}^{n} w_{j} x_{j} \\leq c\\\\\n",
    " & 0 \\le x_j \\le 1 \\qquad  j=1,\\dots ,n\\\\\n",
    "\\end{aligned} \n",
    "$$\n",
    "I.e., with the following non-restrictive hypotheses:\n",
    "- $p_j$, $w_j$ et $C$ : positive integers\n",
    "- $\\displaystyle{\\sum_{j=1}^{n} w_j> C}$\n",
    "-  $w_j \\le C, \\ j=1, \\dots , n$\n",
    "- $ \\frac{p_1}{w_1} \\ge  \\frac{p_2}{w_2} \\ge  \\frac{p_3}{w_3} \\ge ...  \\ge \\frac{p_n}{w_n} $\n",
    "\n",
    "compute:\n",
    "- $s = \\min \\Big\\{ j  \\ \\mid \\ \\displaystyle{\\sum_{i=1}^{j} w_i > C} \\Big\\}$\n",
    "- $\n",
    "\\left\\{\\begin{array}{ccc}\n",
    " \\bar{x}_j = 1 \\hspace{7mm} \\mbox{for } j=1, ... , \\ s-1   \\\\\n",
    " \\bar{x}_j = 0 \\hspace{7mm} \\mbox{for } j=s+1, \\dots ,n  \\\\\n",
    " \\ \\ \\ \\ \\bar{x}_s = \\frac{\\bar{C}}{w_s} \\hspace{5mm} \\mbox{avec } \\bar{C} = C - \\displaystyle{\\sum_{j=1}^{s-1} w_j}\\\\\n",
    "\\end{array}\\right.\n",
    "$\n"
   ]
  },
  {
   "cell_type": "markdown",
   "metadata": {},
   "source": [
    "## Answers:\n",
    "\n",
    "----\n",
    "### 1. Function which computes the linear relaxation of the problem using the Dantzig bound."
   ]
  },
  {
   "cell_type": "code",
   "execution_count": 1,
   "metadata": {},
   "outputs": [
    {
     "data": {
      "text/plain": [
       "computeLP_U01KP (generic function with 1 method)"
      ]
     },
     "execution_count": 1,
     "metadata": {},
     "output_type": "execute_result"
    }
   ],
   "source": [
    "using Printf\n",
    "\n",
    "function computeLP_U01KP( p::Vector{Int64}, w::Vector{Int64}, c::Int64 )\n",
    "\n",
    "    n = length( p )\n",
    "    xLP = zeros( Float64, n )\n",
    "    \n",
    "    # compute the utilities and reorder the items accordingly\n",
    "    u = p ./ w\n",
    "    reord = sortperm( u, rev=true )\n",
    "\n",
    "    # identify the last item integrally selected\n",
    "    zLP = 0 ; bar_c = c; s = 1 \n",
    "    while ( s <= n ) && ( bar_c - w[reord[s]]  >= 0 )\n",
    "         xLP[reord[s]] = 1.0\n",
    "         zLP = zLP + p[reord[s]]   \n",
    "         bar_c = bar_c - w[reord[s]] \n",
    "         s = s + 1\n",
    "    end\n",
    "    s = s - 1\n",
    "                \n",
    "    # constraint not saturated => add the fractionnal part of the blocking item valuated\n",
    "    if ( bar_c > 0 ) && ( s < n )\n",
    "        xLP[reord[s+1]] = bar_c / w[reord[s+1]]        \n",
    "        zLP = zLP + xLP[reord[s+1]] * p[reord[s+1]]  \n",
    "    end\n",
    "    \n",
    "    for i = 1:n\n",
    "        @printf(\" %d (%d %d %.2f) %4.2f \\n\", reord[i], p[reord[i]], w[reord[i]], u[reord[i]], xLP[reord[i]])\n",
    "    end\n",
    "       \n",
    "    return zLP, xLP\n",
    "end"
   ]
  },
  {
   "cell_type": "markdown",
   "metadata": {},
   "source": [
    "----\n",
    "### 2. Compute the linear relaxation for an instance."
   ]
  },
  {
   "cell_type": "code",
   "execution_count": 2,
   "metadata": {},
   "outputs": [
    {
     "name": "stdout",
     "output_type": "stream",
     "text": [
      " 4 (7 2 3.50) 1.00 \n",
      " 1 (5 2 2.50) 1.00 \n",
      " 5 (4 5 0.80) 1.00 \n",
      " 3 (2 4 0.50) 0.25 \n",
      " 2 (3 8 0.38) 0.00 \n"
     ]
    },
    {
     "data": {
      "text/plain": [
       "(16.5, [1.0, 0.0, 0.25, 1.0, 1.0])"
      ]
     },
     "execution_count": 2,
     "metadata": {},
     "output_type": "execute_result"
    }
   ],
   "source": [
    "p = [ 5, 3, 2, 7, 4 ]\n",
    "w = [ 2, 8, 4, 2, 5 ]\n",
    "c = 10\n",
    "\n",
    "computeLP_U01KP( p, w, c )"
   ]
  }
 ],
 "metadata": {
  "celltoolbar": "Raw Cell Format",
  "kernelspec": {
   "display_name": "Julia 1.10.5",
   "language": "julia",
   "name": "julia-1.10"
  },
  "language_info": {
   "file_extension": ".jl",
   "mimetype": "application/julia",
   "name": "julia",
   "version": "1.10.5"
  }
 },
 "nbformat": 4,
 "nbformat_minor": 4
}
