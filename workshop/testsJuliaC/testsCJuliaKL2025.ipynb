{
 "cells": [
  {
   "cell_type": "markdown",
   "id": "b1b75e85-8baf-425c-8b96-0854c30a540c",
   "metadata": {},
   "source": [
    "## From C code to Julia code: some bad and good practices"
   ]
  },
  {
   "cell_type": "markdown",
   "id": "b511ab3a-f7f3-4393-8fb2-aaee59875c62",
   "metadata": {},
   "source": [
    "---- \n",
    "### C Code"
   ]
  },
  {
   "cell_type": "markdown",
   "id": "bab48922-85cb-40c8-94d9-4d34839ec264",
   "metadata": {},
   "source": [
    "```C\n",
    "#include <stdio.h>\n",
    "#include <stdlib.h>\n",
    "\n",
    "int main()\n",
    "{\n",
    "    int A[100][100][100];\n",
    "    int i,j,k,loop;\n",
    "    for (loop=0; loop <1000; loop++){\n",
    "        for (i=0; i<100; i++){\n",
    "            for (j=0; j<100; j++){\n",
    "                for (k=0; k<100; k++){\n",
    "                    A[i][j][k] = loop;\n",
    "                }\n",
    "            }\n",
    "        }\n",
    "        printf(\"%d\\n\", A[99][99][99]);\n",
    "    }\n",
    "    return 0;\n",
    "}\n",
    "```"
   ]
  },
  {
   "cell_type": "code",
   "execution_count": null,
   "id": "44b3e939-87b2-4b98-8769-178ecfef5dd7",
   "metadata": {},
   "outputs": [],
   "source": [
    "run(`gcc test.c -O3 -o test2025`)"
   ]
  },
  {
   "cell_type": "code",
   "execution_count": null,
   "id": "59d244de-8afb-4447-8b70-3cdd37a58de6",
   "metadata": {},
   "outputs": [],
   "source": [
    "@time run(`./test2025`)"
   ]
  },
  {
   "cell_type": "markdown",
   "id": "2d26cde3-d44b-4e14-95c0-3a23ddc6f2d9",
   "metadata": {},
   "source": [
    "----\n",
    "### Julia Codes"
   ]
  },
  {
   "cell_type": "markdown",
   "id": "91a4fabd-a8ee-4762-bda1-e154630d4287",
   "metadata": {},
   "source": [
    "**test1.jl**"
   ]
  },
  {
   "cell_type": "code",
   "execution_count": null,
   "id": "63963bb8-cbe2-447b-8973-d19ccfdf7074",
   "metadata": {},
   "outputs": [],
   "source": [
    "@time begin\n",
    "    \n",
    "    A = zeros(100,100,100)\n",
    "    for loop = 1:1000\n",
    "        for i = 1:100\n",
    "            for j = 1:100\n",
    "                for k = 1:100\n",
    "                    A[i,j,k] = loop\n",
    "                end\n",
    "            end\n",
    "        end\n",
    "        println(A[100,100,100])\n",
    "    end\n",
    "    \n",
    "end"
   ]
  },
  {
   "cell_type": "markdown",
   "id": "c2f8f36d-3b67-48bd-a858-65f2e7e9a4d9",
   "metadata": {},
   "source": [
    "##### Remark:\n",
    "coding without using function is bad in Julia $\\longrightarrow$ modify"
   ]
  },
  {
   "cell_type": "markdown",
   "id": "d5f8116c-c05d-447b-91bf-ed4197a5b885",
   "metadata": {},
   "source": [
    "----\n",
    "**test2.jl**"
   ]
  },
  {
   "cell_type": "code",
   "execution_count": null,
   "id": "cf8632aa-df23-4d54-aa19-265c40efa1af",
   "metadata": {},
   "outputs": [],
   "source": [
    "function test2()\n",
    "    A = zeros(100,100,100)\n",
    "    for loop = 1:1000\n",
    "        for i = 1:100\n",
    "            for j = 1:100\n",
    "                for k = 1:100\n",
    "                    A[i,j,k] = loop\n",
    "                end\n",
    "            end\n",
    "        end\n",
    "        println(A[100,100,100])\n",
    "    end\n",
    "end\n",
    "\n",
    "@time test2();"
   ]
  },
  {
   "cell_type": "markdown",
   "id": "678c84ce-8eee-4992-9499-96665ab1a203",
   "metadata": {},
   "source": [
    "##### Remark:\n",
    "memory representation of matrix `A` in C $\\neq$ memory representation in Julia (same of ForTran) $\\longrightarrow$ modify"
   ]
  },
  {
   "cell_type": "markdown",
   "id": "60d1b38d-9bae-48fd-8276-944da9c739bc",
   "metadata": {},
   "source": [
    "----\n",
    "**test3.jl**"
   ]
  },
  {
   "cell_type": "code",
   "execution_count": null,
   "id": "094455a2-92f6-4ea8-94c4-f31ed9fe8e5f",
   "metadata": {},
   "outputs": [],
   "source": [
    "function test3()\n",
    "    A = zeros(100,100,100)\n",
    "    for loop = 1:1000\n",
    "        for k = 1:100\n",
    "            for j = 1:100\n",
    "                for i = 1:100\n",
    "                    A[i,j,k] = loop\n",
    "                end\n",
    "            end\n",
    "        end\n",
    "        println(A[100,100,100])\n",
    "    end\n",
    "end\n",
    "\n",
    "@time test3();"
   ]
  },
  {
   "cell_type": "markdown",
   "id": "02ddadac-d48c-42a7-80aa-887759010972",
   "metadata": {},
   "source": [
    "##### Remark:\n",
    "bounds of the matrix are implicitely checked $\\longrightarrow$ modify in relaxing it"
   ]
  },
  {
   "cell_type": "markdown",
   "id": "2b7aa659-b809-4850-97a5-785a51d687b3",
   "metadata": {},
   "source": [
    "----\n",
    "**test4.jl**"
   ]
  },
  {
   "cell_type": "code",
   "execution_count": null,
   "id": "4ec69d07-3e14-4d23-912e-e10fbf2a4ba4",
   "metadata": {},
   "outputs": [],
   "source": [
    "function test4()\n",
    "    A = zeros(100,100,100)\n",
    "    for loop = 1:1000\n",
    "        for k = 1:100\n",
    "            for j = 1:100\n",
    "                for i = 1:100\n",
    "                    @inbounds A[i,j,k] = loop\n",
    "                end\n",
    "            end\n",
    "        end\n",
    "        println(A[100,100,100])\n",
    "    end\n",
    "end\n",
    "\n",
    "@time test4();"
   ]
  },
  {
   "cell_type": "markdown",
   "id": "ab43a459-1e84-4f8f-9a03-08c4034087f6",
   "metadata": {},
   "source": [
    "##### Remark:"
   ]
  },
  {
   "cell_type": "code",
   "execution_count": null,
   "id": "7794c00b-77f8-40bb-9432-21aa2c629f29",
   "metadata": {},
   "outputs": [],
   "source": [
    "typeof( zeros(100,100,100) )"
   ]
  },
  {
   "cell_type": "markdown",
   "id": "983096c6-ad82-4726-b7df-dcfe2c85c96d",
   "metadata": {},
   "source": [
    "----\n",
    "**test5.jl**"
   ]
  },
  {
   "cell_type": "code",
   "execution_count": null,
   "id": "cc7f6dff-a1a1-48cc-90e5-dbfb8d0eea1c",
   "metadata": {},
   "outputs": [],
   "source": [
    "function test5()\n",
    "    A = zeros(Int64,100,100,100)\n",
    "    for loop = 1:1000\n",
    "        for k = 1:100\n",
    "            for j = 1:100\n",
    "                for i = 1:100\n",
    "                    @inbounds A[i,j,k] = loop\n",
    "                end\n",
    "            end\n",
    "        end\n",
    "        println(A[100,100,100])\n",
    "    end\n",
    "end\n",
    "\n",
    "@time test5();"
   ]
  },
  {
   "cell_type": "markdown",
   "id": "cde03e94-f3bb-48a5-b82b-a2d83dfc78be",
   "metadata": {},
   "source": [
    "##### Remark:\n",
    "`int` in C is coded on 32 bits $\\longrightarrow$ modify to `Int32`"
   ]
  },
  {
   "cell_type": "markdown",
   "id": "56e1847f-84df-4c51-8fb9-62f3cb2d5077",
   "metadata": {},
   "source": [
    "----\n",
    "**test6.jl**"
   ]
  },
  {
   "cell_type": "code",
   "execution_count": null,
   "id": "d430141e-d0ad-4dc1-a69a-846c0cc527c9",
   "metadata": {},
   "outputs": [],
   "source": [
    "function test6()\n",
    "    A = zeros(Int32,100,100,100)\n",
    "    for loop::Int32 = 1:1000\n",
    "        for k = 1:100\n",
    "            for j = 1:100\n",
    "                for i = 1:100\n",
    "                    @inbounds A[i,j,k] = loop\n",
    "                end\n",
    "            end\n",
    "        end\n",
    "        println(A[100,100,100])\n",
    "    end\n",
    "end\n",
    "\n",
    "@time test6();"
   ]
  },
  {
   "cell_type": "markdown",
   "id": "aa9e0130-ac21-4481-baeb-298b60324d67",
   "metadata": {},
   "source": [
    "##### Remark:\n",
    "The matrix is not initialized to `0` in the C code $\\longrightarrow$ modify"
   ]
  },
  {
   "cell_type": "markdown",
   "id": "46b9f9ef-4984-4ea7-aad5-5af2a1e627a6",
   "metadata": {},
   "source": [
    "----\n",
    "**test7.jl**"
   ]
  },
  {
   "cell_type": "code",
   "execution_count": null,
   "id": "284dc39b-e876-4d26-a64c-777231c528f9",
   "metadata": {},
   "outputs": [],
   "source": [
    "function test7()\n",
    "    A = Array{Int32}(undef,100,100,100)\n",
    "    for loop::Int32 = 1:1000\n",
    "        for k = 1:100\n",
    "            for j = 1:100\n",
    "                for i = 1:100\n",
    "                    @inbounds A[i,j,k] = loop\n",
    "                end\n",
    "            end\n",
    "        end\n",
    "        println(A[100,100,100])\n",
    "    end\n",
    "end\n",
    "\n",
    "@time test7();"
   ]
  },
  {
   "cell_type": "markdown",
   "id": "145782fc-6e3f-452f-9a62-52d84ecd111a",
   "metadata": {},
   "source": [
    "##### Remark:\n",
    "compact coding for nested loops in Julia $\\longrightarrow$ modify"
   ]
  },
  {
   "cell_type": "markdown",
   "id": "c4f2c310-5df9-4003-87bd-9849bf22ca9f",
   "metadata": {},
   "source": [
    "----\n",
    "**test8.jl**"
   ]
  },
  {
   "cell_type": "code",
   "execution_count": null,
   "id": "45bf215e-1a8e-4deb-bed4-5ba501b9ab41",
   "metadata": {
    "scrolled": true
   },
   "outputs": [],
   "source": [
    "function test8()\n",
    "    A = Array{Int32}(undef,100,100,100)\n",
    "    for loop::Int32 = 1:1000\n",
    "        for k = 1:100, j = 1:100, i = 1:100\n",
    "            @inbounds A[i,j,k] = loop\n",
    "        end\n",
    "        println(A[100,100,100])\n",
    "    end\n",
    "end\n",
    "\n",
    "@time test8();"
   ]
  },
  {
   "cell_type": "markdown",
   "id": "7cc9e3ff-128a-4c54-a4ff-eedf4ef700dc",
   "metadata": {},
   "source": [
    "----\n",
    "**benchmark with test8.jl**"
   ]
  },
  {
   "cell_type": "code",
   "execution_count": null,
   "id": "95191740-dee8-4c9d-b918-08d95cd9eadc",
   "metadata": {},
   "outputs": [],
   "source": [
    "using BenchmarkTools"
   ]
  },
  {
   "cell_type": "code",
   "execution_count": null,
   "id": "d115f8a5-d4d8-4e54-89cb-5640ce76db60",
   "metadata": {},
   "outputs": [],
   "source": [
    "@btime test8()"
   ]
  },
  {
   "cell_type": "code",
   "execution_count": null,
   "id": "f20e8d25-3170-4139-b39b-ca0f2f4f80f9",
   "metadata": {},
   "outputs": [],
   "source": [
    "@benchmark test8()"
   ]
  },
  {
   "cell_type": "code",
   "execution_count": null,
   "id": "ba439eab-e5d5-4cb4-a4b6-cf93aa8222b3",
   "metadata": {},
   "outputs": [],
   "source": []
  }
 ],
 "metadata": {
  "kernelspec": {
   "display_name": "Julia 1.10.5",
   "language": "julia",
   "name": "julia-1.10"
  },
  "language_info": {
   "file_extension": ".jl",
   "mimetype": "application/julia",
   "name": "julia",
   "version": "1.10.5"
  }
 },
 "nbformat": 4,
 "nbformat_minor": 5
}
